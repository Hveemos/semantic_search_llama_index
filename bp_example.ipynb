{
 "cells": [
  {
   "cell_type": "code",
   "execution_count": 1,
   "metadata": {},
   "outputs": [
    {
     "name": "stderr",
     "output_type": "stream",
     "text": [
      "/Users/johve/source/semantic_search_llama_index/.venv/lib/python3.11/site-packages/tqdm/auto.py:21: TqdmWarning: IProgress not found. Please update jupyter and ipywidgets. See https://ipywidgets.readthedocs.io/en/stable/user_install.html\n",
      "  from .autonotebook import tqdm as notebook_tqdm\n"
     ]
    }
   ],
   "source": [
    "from pathlib import Path\n",
    "from llama_index.core import SimpleDirectoryReader\n",
    "from llama_index.embeddings.huggingface import HuggingFaceEmbedding\n",
    "from llama_index.core.settings import Settings\n",
    "from llama_index.core import VectorStoreIndex\n",
    "from llama_index.core.node_parser import SentenceSplitter\n",
    "from llama_index.core.ingestion import IngestionPipeline\n",
    "\n",
    "CUTOFF = 0.6\n",
    "MODEL_NAME = 'KBLab/sentence-bert-swedish-cased'\n",
    "DATA_FOLDER = Path(\"bp2025\")\n",
    "INDEX_FOLDER = DATA_FOLDER / Path(\"indexes\")\n"
   ]
  },
  {
   "cell_type": "code",
   "execution_count": 2,
   "metadata": {},
   "outputs": [
    {
     "name": "stdout",
     "output_type": "stream",
     "text": [
      "Number of documents: 6066\n"
     ]
    }
   ],
   "source": [
    "\n",
    "def get_metadata_from_filename(filename):\n",
    "    \"\"\"Custom function to fetch metadata from filename.\"\"\"\n",
    "    path=Path(filename)\n",
    "    return {\n",
    "        \"document_type\": path.parent.name,\n",
    "        \"file_name\": str(path.name),\n",
    "    }\n",
    "\n",
    "# load data\n",
    "loader = SimpleDirectoryReader(\n",
    "    input_dir=DATA_FOLDER,\n",
    "    required_exts=[\".pdf\"], # Läser bara in pdf-filer\n",
    "    recursive=False,\n",
    "    file_metadata=get_metadata_from_filename)\n"
   ]
  },
  {
   "cell_type": "code",
   "execution_count": 3,
   "metadata": {},
   "outputs": [
    {
     "name": "stdout",
     "output_type": "stream",
     "text": [
      "Using MPS\n"
     ]
    },
    {
     "name": "stderr",
     "output_type": "stream",
     "text": [
      "/Users/johve/source/semantic_search_llama_index/.venv/lib/python3.11/site-packages/transformers/tokenization_utils_base.py:1601: FutureWarning: `clean_up_tokenization_spaces` was not set. It will be set to `True` by default. This behavior will be depracted in transformers v4.45, and will be then set to `False` by default. For more details check this issue: https://github.com/huggingface/transformers/issues/31884\n",
      "  warnings.warn(\n"
     ]
    },
    {
     "name": "stdout",
     "output_type": "stream",
     "text": [
      "No index found. Running pipeline and saving index.\n"
     ]
    },
    {
     "name": "stderr",
     "output_type": "stream",
     "text": [
      "Parsing nodes: 100%|██████████| 6066/6066 [00:12<00:00, 478.12it/s]\n",
      "Generating embeddings: 100%|██████████| 32255/32255 [07:46<00:00, 69.09it/s]\n"
     ]
    }
   ],
   "source": [
    "\n",
    "from torch import backends, cuda\n",
    "if backends.mps.is_available():\n",
    "    device = \"mps\"\n",
    "    print(\"Using MPS\")\n",
    "else:\n",
    "    # check for cuda\n",
    "    if cuda.is_available():\n",
    "        device = \"cuda\"\n",
    "        print(\"Using CUDA\")\n",
    "    else:\n",
    "        device = \"cpu\"\n",
    "        print(\"Using CPU\")\n",
    "        \n",
    "embed_model = HuggingFaceEmbedding(model_name=MODEL_NAME, trust_remote_code=True, device=device)\n",
    "\n",
    "# create the pipeline with transformations\n",
    "pipeline = IngestionPipeline(\n",
    "    transformations=[\n",
    "        SentenceSplitter(chunk_size=256, chunk_overlap=20),\n",
    "        embed_model,\n",
    "    ]\n",
    ")\n",
    "\n",
    "# Check if INDEX_FOLDER is empty. If empty run the pipeline and save the index\n",
    "if not INDEX_FOLDER.exists() or not any(INDEX_FOLDER.iterdir()):\n",
    "\n",
    "    # create index folder\n",
    "    INDEX_FOLDER.mkdir(parents=True, exist_ok=True)\n",
    "\n",
    "    print(\"No index found. Running pipeline and saving index.\")\n",
    "\n",
    "    docs = loader.load_data()\n",
    "    print('Number of documents:', len(docs))\n",
    "    \n",
    "    # run the pipeline\n",
    "    nodes = pipeline.run(documents=docs, show_progress=True)\n",
    "\n",
    "    # Building index from nodes\n",
    "    index = VectorStoreIndex(nodes, embed_model=embed_model)\n",
    "\n",
    "    # Save index\n",
    "    index.storage_context.persist(persist_dir=INDEX_FOLDER)\n",
    "else:\n",
    "    # Load index\n",
    "    index = VectorStoreIndex(embed_model=embed_model)\n",
    "    index.storage_context.load(INDEX_FOLDER)\n",
    "    print(\"Index loaded.\")"
   ]
  },
  {
   "cell_type": "code",
   "execution_count": 12,
   "metadata": {},
   "outputs": [],
   "source": [
    "# Make a retriever object\n",
    "retriever = index.as_retriever(similarity_top_k=5)"
   ]
  },
  {
   "cell_type": "code",
   "execution_count": 13,
   "metadata": {},
   "outputs": [
    {
     "data": {
      "text/markdown": [
       "**Node ID:** 7430944e-07cd-407c-a710-a835ee5410e5<br>**Similarity:** 0.739268431083924<br>**Text:** Prop.  2024/25:1  Utgiftsområde  17 \n",
       "150 Ungas förutsättningar för att etablera sig på arbetsmark...<br>"
      ],
      "text/plain": [
       "<IPython.core.display.Markdown object>"
      ]
     },
     "metadata": {},
     "output_type": "display_data"
    },
    {
     "data": {
      "text/markdown": [
       "**Node ID:** 90034015-8201-4b0e-86a9-21d6b72f61de<br>**Similarity:** 0.7333949943853504<br>**Text:** Prop.  2024/25:1  Utgiftsområde  17 \n",
       "150 Ungas förutsättningar för att etablera sig på arbetsmark...<br>"
      ],
      "text/plain": [
       "<IPython.core.display.Markdown object>"
      ]
     },
     "metadata": {},
     "output_type": "display_data"
    },
    {
     "data": {
      "text/markdown": [
       "**Node ID:** cfe0bd51-1256-4ff8-8353-34b3a91176f4<br>**Similarity:** 0.7200013485255454<br>**Text:** Om de heltidsstuderande som söker \n",
       "arbete exkluderas sjunker dock arbetslöshetsnivån under 2023 t...<br>"
      ],
      "text/plain": [
       "<IPython.core.display.Markdown object>"
      ]
     },
     "metadata": {},
     "output_type": "display_data"
    },
    {
     "data": {
      "text/markdown": [
       "**Node ID:** 78c45ea6-da17-403e-95d1-a964417fb673<br>**Similarity:** 0.7199509784394222<br>**Text:** Om de heltidsstuderande som söker \n",
       "arbete exkluderas sjunker dock arbetslöshetsnivån under 2023 t...<br>"
      ],
      "text/plain": [
       "<IPython.core.display.Markdown object>"
      ]
     },
     "metadata": {},
     "output_type": "display_data"
    },
    {
     "data": {
      "text/markdown": [
       "**Node ID:** 83557bae-3c10-4919-b72b-e14d24ed3ad5<br>**Similarity:** 0.6983238213498363<br>**Text:** Andelen unga inskrivna på Arbetsförmedlingen  minskar i alla \n",
       "grupper och är den lägsta på 10 år ...<br>"
      ],
      "text/plain": [
       "<IPython.core.display.Markdown object>"
      ]
     },
     "metadata": {},
     "output_type": "display_data"
    }
   ],
   "source": [
    "from llama_index.core.response.notebook_utils import (\n",
    "    display_source_node,\n",
    "    display_response,\n",
    ")\n",
    "target_text=\"\"\"Hur går det för unga på arbetsmarknaden?\"\"\"\n",
    "\n",
    "retrieved_results = retriever.retrieve(target_text)\n",
    "\n",
    "for r in retrieved_results:\n",
    "    display_source_node(r)"
   ]
  },
  {
   "cell_type": "code",
   "execution_count": null,
   "metadata": {},
   "outputs": [],
   "source": []
  }
 ],
 "metadata": {
  "kernelspec": {
   "display_name": ".venv",
   "language": "python",
   "name": "python3"
  },
  "language_info": {
   "codemirror_mode": {
    "name": "ipython",
    "version": 3
   },
   "file_extension": ".py",
   "mimetype": "text/x-python",
   "name": "python",
   "nbconvert_exporter": "python",
   "pygments_lexer": "ipython3",
   "version": "3.11.10"
  }
 },
 "nbformat": 4,
 "nbformat_minor": 2
}
