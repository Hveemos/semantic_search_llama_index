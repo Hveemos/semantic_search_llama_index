{
 "cells": [
  {
   "cell_type": "code",
   "execution_count": 8,
   "metadata": {},
   "outputs": [],
   "source": [
    "from pathlib import Path\n",
    "from llama_index.core import SimpleDirectoryReader, load_index_from_storage, StorageContext\n",
    "from llama_index.embeddings.huggingface import HuggingFaceEmbedding\n",
    "from llama_index.core.settings import Settings\n",
    "from llama_index.core import VectorStoreIndex\n",
    "from llama_index.core.node_parser import SentenceSplitter\n",
    "from llama_index.core.ingestion import IngestionPipeline\n",
    "\n",
    "CUTOFF = 0.6\n",
    "MODEL_NAME = 'KBLab/sentence-bert-swedish-cased'\n",
    "DATA_FOLDER = Path(\"bp2025\")\n",
    "INDEX_FOLDER = DATA_FOLDER / Path(\"indexes\")\n"
   ]
  },
  {
   "cell_type": "code",
   "execution_count": 9,
   "metadata": {},
   "outputs": [],
   "source": [
    "\n",
    "def get_metadata_from_filename(filename):\n",
    "    \"\"\"Custom function to fetch metadata from filename.\"\"\"\n",
    "    path=Path(filename)\n",
    "    return {\n",
    "        \"document_type\": path.parent.name,\n",
    "        \"file_name\": str(path.name),\n",
    "    }\n",
    "\n",
    "# load data\n",
    "loader = SimpleDirectoryReader(\n",
    "    input_dir=DATA_FOLDER,\n",
    "    required_exts=[\".pdf\"], # Läser bara in pdf-filer\n",
    "    recursive=False,\n",
    "    file_metadata=get_metadata_from_filename)\n"
   ]
  },
  {
   "cell_type": "code",
   "execution_count": 13,
   "metadata": {},
   "outputs": [
    {
     "name": "stdout",
     "output_type": "stream",
     "text": [
      "Using MPS\n"
     ]
    },
    {
     "name": "stderr",
     "output_type": "stream",
     "text": [
      "/Users/johve/source/semantic_search_llama_index/.venv/lib/python3.11/site-packages/transformers/tokenization_utils_base.py:1601: FutureWarning: `clean_up_tokenization_spaces` was not set. It will be set to `True` by default. This behavior will be depracted in transformers v4.45, and will be then set to `False` by default. For more details check this issue: https://github.com/huggingface/transformers/issues/31884\n",
      "  warnings.warn(\n"
     ]
    },
    {
     "name": "stdout",
     "output_type": "stream",
     "text": [
      "Index loaded.\n"
     ]
    }
   ],
   "source": [
    "\n",
    "from torch import backends, cuda\n",
    "if backends.mps.is_available():\n",
    "    device = \"mps\"\n",
    "    print(\"Using MPS\")\n",
    "else:\n",
    "    # check for cuda\n",
    "    if cuda.is_available():\n",
    "        device = \"cuda\"\n",
    "        print(\"Using CUDA\")\n",
    "    else:\n",
    "        device = \"cpu\"\n",
    "        print(\"Using CPU\")\n",
    "        \n",
    "embed_model = HuggingFaceEmbedding(model_name=MODEL_NAME, trust_remote_code=True, device=device)\n",
    "\n",
    "# create the pipeline with transformations\n",
    "pipeline = IngestionPipeline(\n",
    "    transformations=[\n",
    "        SentenceSplitter(chunk_size=256, chunk_overlap=20),\n",
    "        embed_model,\n",
    "    ]\n",
    ")\n",
    "\n",
    "# Check if INDEX_FOLDER is empty. If empty run the pipeline and save the index\n",
    "if not INDEX_FOLDER.exists() or not any(INDEX_FOLDER.iterdir()):\n",
    "\n",
    "    # create index folder\n",
    "    INDEX_FOLDER.mkdir(parents=True, exist_ok=True)\n",
    "\n",
    "    print(\"No index found. Running pipeline and saving index.\")\n",
    "\n",
    "    docs = loader.load_data()\n",
    "    print('Number of documents:', len(docs))\n",
    "    \n",
    "    # run the pipeline\n",
    "    nodes = pipeline.run(documents=docs, show_progress=True)\n",
    "\n",
    "    # Building index from nodes\n",
    "    index = VectorStoreIndex(nodes, embed_model=embed_model)\n",
    "\n",
    "    # Save index\n",
    "    index.storage_context.persist(persist_dir=INDEX_FOLDER)\n",
    "\n",
    "else:\n",
    "    storage_context = StorageContext.from_defaults(persist_dir=INDEX_FOLDER)\n",
    "    # Load index\n",
    "    index = load_index_from_storage(storage_context=storage_context,embed_model=embed_model)\n",
    "\n",
    "    print(\"Index loaded.\")"
   ]
  },
  {
   "cell_type": "code",
   "execution_count": 14,
   "metadata": {},
   "outputs": [],
   "source": [
    "# Make a retriever object\n",
    "retriever = index.as_retriever(similarity_top_k=5)"
   ]
  },
  {
   "cell_type": "code",
   "execution_count": 24,
   "metadata": {},
   "outputs": [
    {
     "name": "stdout",
     "output_type": "stream",
     "text": [
      "Score: 0.74\n",
      "Page: 2295\n",
      "Name: budgetpropositionen-for-2025-hela-dokumentet-prop.-2024251.pdf\n",
      "Text: Prop.  2024/25:1  Utgiftsområde  17 \n",
      "150 Ungas förutsättningar för att etablera sig på arbetsmarknaden har under 2023 fortsatt \n",
      "att utvec klas i en positiv riktning. Andelen unga inskrivna på Arbetsförmedlingen har \n",
      "fortsatt att minska bland samtliga grupper av unga och nedgången har varit särskilt \n",
      "tydlig bland gruppen unga utrikes födda, vilket bidragit till att skillnaden mellan utrikes \n",
      "och inrikes födda unga har minskat. Sammantaget medför detta att arbetslösheten \n",
      "bland unga, mätt som andel unga inskrivna på Arbetsförmedlingen, är den lägsta på \n",
      "mer än ett decennium.\n",
      "--------------------------------------------------------------------------------\n",
      "Score: 0.73\n",
      "Page: 150\n",
      "Name: utgiftsomrade-17-kultur-medier-trossamfund-och-fritid.pdf\n",
      "Text: Prop.  2024/25:1  Utgiftsområde  17 \n",
      "150 Ungas förutsättningar för att etablera sig på arbetsmarknaden har under 2023 fortsatt \n",
      "att utvec klas i en positiv riktning. Andelen unga inskrivna på Arbetsförmedlingen har \n",
      "fortsatt att minska bland samtliga grupper av unga och nedgången har varit särskilt \n",
      "tydlig bland gruppen unga utrikes födda, vilket bidragit till att skillnaden mellan utrikes \n",
      "och inrikes födda unga har minskat. Sammantaget medför detta att arbetslösheten \n",
      "bland unga, mätt som andel unga inskrivna på Arbetsförmedlingen, är den lägsta på \n",
      "mer än ett decennium.\n",
      "--------------------------------------------------------------------------------\n",
      "Score: 0.72\n",
      "Page: 1796\n",
      "Name: budgetpropositionen-for-2025-hela-dokumentet-prop.-2024251.pdf\n",
      "Text: Om de heltidsstuderande som söker \n",
      "arbete exkluderas sjunker dock arbetslöshetsnivån under 2023 till 10,0 procent, vilket \n",
      "är mindre än hälften av den redovisade ungdomsarbetslösheten. Andelen unga som \n",
      "varken arbet ar eller studerar, s.k. UVAS, kan ge en mer rättvisande bild av \n",
      "utmaningarna för unga på arbetsmarknaden. År 2023 ökade andelen unga i åldern 15 –\n",
      "24 år som varken arbetade eller studerade från 4,9 procent 2022 till 5,1 procent, se \n",
      "vidare utgiftsområde 17 Kultur, medier, trossamfund och fritid , avsnitt 15 \n",
      "Ungdomspolitik.\n",
      "--------------------------------------------------------------------------------\n",
      "Score: 0.72\n",
      "Page: 14\n",
      "Name: utgiftsomrade-14-arbetsmarknad-och-arbetsliv.pdf\n",
      "Text: Om de heltidsstuderande som söker \n",
      "arbete exkluderas sjunker dock arbetslöshetsnivån under 2023 till 10,0 procent, vilket \n",
      "är mindre än hälften av den redovisade ungdomsarbetslösheten. Andelen unga som \n",
      "varken arbet ar eller studerar, s.k. UVAS, kan ge en mer rättvisande bild av \n",
      "utmaningarna för unga på arbetsmarknaden. År 2023 ökade andelen unga i åldern 15 –\n",
      "24 år som varken arbetade eller studerade från 4,9 procent 2022 till 5,1 procent, se \n",
      "vidare utgiftsområde 17 Kultur, medier, trossamfund och fritid , avsnitt 15 \n",
      "Ungdomspolitik.\n",
      "--------------------------------------------------------------------------------\n",
      "Score: 0.70\n",
      "Page: 2288\n",
      "Name: budgetpropositionen-for-2025-hela-dokumentet-prop.-2024251.pdf\n",
      "Text: Andelen unga inskrivna på Arbetsförmedlingen  minskar i alla \n",
      "grupper och är den lägsta på 10 år  \n",
      "Mellan 2011 och 2022  minskade andelen unga i åldern 16 –24 år som var inskrivna hos \n",
      "Arbetsförmedlingen som öppet arbetslösa eller i program med aktivitetsstöd  från \n",
      "18,1 procent till 7,9 procent. Under 2023 har a ndelen fortsatt att minska och  var \n",
      "då 7,2 procent. Andelen har minskat i samtliga grupper av unga, men minskningen har \n",
      "varit mer påtaglig bland unga utrikes födda. Mellan 2022 och 2023 mins kade andelen \n",
      "från 16,9 till 13,9 procent i denna grupp vilket har medfört att skillnaden i arbetslöshet \n",
      "mellan inrikes och utrikes födda unga har minskat.\n",
      "--------------------------------------------------------------------------------\n"
     ]
    }
   ],
   "source": [
    "from llama_index.core.response.notebook_utils import (\n",
    "    display_source_node,\n",
    "    display_response,\n",
    ")\n",
    "target_text=\"\"\"Hur går det för unga på arbetsmarknaden?\"\"\"\n",
    "\n",
    "retrieved_results = retriever.retrieve(target_text)\n",
    "\n",
    "for r in retrieved_results:\n",
    "    print(f\"Score: {r.score:.2f}\")\n",
    "    print(f\"Page: {r.metadata['page_label']}\")\n",
    "    print(f\"Name: {r.metadata['file_name']}\")\n",
    "    print(f'Text: {r.text}')\n",
    "    print('-'*80)"
   ]
  }
 ],
 "metadata": {
  "kernelspec": {
   "display_name": ".venv",
   "language": "python",
   "name": "python3"
  },
  "language_info": {
   "codemirror_mode": {
    "name": "ipython",
    "version": 3
   },
   "file_extension": ".py",
   "mimetype": "text/x-python",
   "name": "python",
   "nbconvert_exporter": "python",
   "pygments_lexer": "ipython3",
   "version": "3.11.10"
  }
 },
 "nbformat": 4,
 "nbformat_minor": 2
}
